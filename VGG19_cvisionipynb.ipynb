{
  "cells": [
    {
      "cell_type": "code",
      "execution_count": null,
      "metadata": {
        "id": "iG5YOEYWR1DI"
      },
      "outputs": [],
      "source": [
        "!pip install -q kaggle"
      ]
    },
    {
      "cell_type": "code",
      "execution_count": null,
      "metadata": {
        "colab": {
          "base_uri": "https://localhost:8080/",
          "height": 92
        },
        "id": "M0Y_7Hnqt0J8",
        "outputId": "98a2396f-b21f-4a45-f2cd-6b185135aa50"
      },
      "outputs": [
        {
          "output_type": "display_data",
          "data": {
            "text/plain": [
              "<IPython.core.display.HTML object>"
            ],
            "text/html": [
              "\n",
              "     <input type=\"file\" id=\"files-9c343169-9d53-43d3-9435-9cc151c0e567\" name=\"files[]\" multiple disabled\n",
              "        style=\"border:none\" />\n",
              "     <output id=\"result-9c343169-9d53-43d3-9435-9cc151c0e567\">\n",
              "      Upload widget is only available when the cell has been executed in the\n",
              "      current browser session. Please rerun this cell to enable.\n",
              "      </output>\n",
              "      <script>// Copyright 2017 Google LLC\n",
              "//\n",
              "// Licensed under the Apache License, Version 2.0 (the \"License\");\n",
              "// you may not use this file except in compliance with the License.\n",
              "// You may obtain a copy of the License at\n",
              "//\n",
              "//      http://www.apache.org/licenses/LICENSE-2.0\n",
              "//\n",
              "// Unless required by applicable law or agreed to in writing, software\n",
              "// distributed under the License is distributed on an \"AS IS\" BASIS,\n",
              "// WITHOUT WARRANTIES OR CONDITIONS OF ANY KIND, either express or implied.\n",
              "// See the License for the specific language governing permissions and\n",
              "// limitations under the License.\n",
              "\n",
              "/**\n",
              " * @fileoverview Helpers for google.colab Python module.\n",
              " */\n",
              "(function(scope) {\n",
              "function span(text, styleAttributes = {}) {\n",
              "  const element = document.createElement('span');\n",
              "  element.textContent = text;\n",
              "  for (const key of Object.keys(styleAttributes)) {\n",
              "    element.style[key] = styleAttributes[key];\n",
              "  }\n",
              "  return element;\n",
              "}\n",
              "\n",
              "// Max number of bytes which will be uploaded at a time.\n",
              "const MAX_PAYLOAD_SIZE = 100 * 1024;\n",
              "\n",
              "function _uploadFiles(inputId, outputId) {\n",
              "  const steps = uploadFilesStep(inputId, outputId);\n",
              "  const outputElement = document.getElementById(outputId);\n",
              "  // Cache steps on the outputElement to make it available for the next call\n",
              "  // to uploadFilesContinue from Python.\n",
              "  outputElement.steps = steps;\n",
              "\n",
              "  return _uploadFilesContinue(outputId);\n",
              "}\n",
              "\n",
              "// This is roughly an async generator (not supported in the browser yet),\n",
              "// where there are multiple asynchronous steps and the Python side is going\n",
              "// to poll for completion of each step.\n",
              "// This uses a Promise to block the python side on completion of each step,\n",
              "// then passes the result of the previous step as the input to the next step.\n",
              "function _uploadFilesContinue(outputId) {\n",
              "  const outputElement = document.getElementById(outputId);\n",
              "  const steps = outputElement.steps;\n",
              "\n",
              "  const next = steps.next(outputElement.lastPromiseValue);\n",
              "  return Promise.resolve(next.value.promise).then((value) => {\n",
              "    // Cache the last promise value to make it available to the next\n",
              "    // step of the generator.\n",
              "    outputElement.lastPromiseValue = value;\n",
              "    return next.value.response;\n",
              "  });\n",
              "}\n",
              "\n",
              "/**\n",
              " * Generator function which is called between each async step of the upload\n",
              " * process.\n",
              " * @param {string} inputId Element ID of the input file picker element.\n",
              " * @param {string} outputId Element ID of the output display.\n",
              " * @return {!Iterable<!Object>} Iterable of next steps.\n",
              " */\n",
              "function* uploadFilesStep(inputId, outputId) {\n",
              "  const inputElement = document.getElementById(inputId);\n",
              "  inputElement.disabled = false;\n",
              "\n",
              "  const outputElement = document.getElementById(outputId);\n",
              "  outputElement.innerHTML = '';\n",
              "\n",
              "  const pickedPromise = new Promise((resolve) => {\n",
              "    inputElement.addEventListener('change', (e) => {\n",
              "      resolve(e.target.files);\n",
              "    });\n",
              "  });\n",
              "\n",
              "  const cancel = document.createElement('button');\n",
              "  inputElement.parentElement.appendChild(cancel);\n",
              "  cancel.textContent = 'Cancel upload';\n",
              "  const cancelPromise = new Promise((resolve) => {\n",
              "    cancel.onclick = () => {\n",
              "      resolve(null);\n",
              "    };\n",
              "  });\n",
              "\n",
              "  // Wait for the user to pick the files.\n",
              "  const files = yield {\n",
              "    promise: Promise.race([pickedPromise, cancelPromise]),\n",
              "    response: {\n",
              "      action: 'starting',\n",
              "    }\n",
              "  };\n",
              "\n",
              "  cancel.remove();\n",
              "\n",
              "  // Disable the input element since further picks are not allowed.\n",
              "  inputElement.disabled = true;\n",
              "\n",
              "  if (!files) {\n",
              "    return {\n",
              "      response: {\n",
              "        action: 'complete',\n",
              "      }\n",
              "    };\n",
              "  }\n",
              "\n",
              "  for (const file of files) {\n",
              "    const li = document.createElement('li');\n",
              "    li.append(span(file.name, {fontWeight: 'bold'}));\n",
              "    li.append(span(\n",
              "        `(${file.type || 'n/a'}) - ${file.size} bytes, ` +\n",
              "        `last modified: ${\n",
              "            file.lastModifiedDate ? file.lastModifiedDate.toLocaleDateString() :\n",
              "                                    'n/a'} - `));\n",
              "    const percent = span('0% done');\n",
              "    li.appendChild(percent);\n",
              "\n",
              "    outputElement.appendChild(li);\n",
              "\n",
              "    const fileDataPromise = new Promise((resolve) => {\n",
              "      const reader = new FileReader();\n",
              "      reader.onload = (e) => {\n",
              "        resolve(e.target.result);\n",
              "      };\n",
              "      reader.readAsArrayBuffer(file);\n",
              "    });\n",
              "    // Wait for the data to be ready.\n",
              "    let fileData = yield {\n",
              "      promise: fileDataPromise,\n",
              "      response: {\n",
              "        action: 'continue',\n",
              "      }\n",
              "    };\n",
              "\n",
              "    // Use a chunked sending to avoid message size limits. See b/62115660.\n",
              "    let position = 0;\n",
              "    do {\n",
              "      const length = Math.min(fileData.byteLength - position, MAX_PAYLOAD_SIZE);\n",
              "      const chunk = new Uint8Array(fileData, position, length);\n",
              "      position += length;\n",
              "\n",
              "      const base64 = btoa(String.fromCharCode.apply(null, chunk));\n",
              "      yield {\n",
              "        response: {\n",
              "          action: 'append',\n",
              "          file: file.name,\n",
              "          data: base64,\n",
              "        },\n",
              "      };\n",
              "\n",
              "      let percentDone = fileData.byteLength === 0 ?\n",
              "          100 :\n",
              "          Math.round((position / fileData.byteLength) * 100);\n",
              "      percent.textContent = `${percentDone}% done`;\n",
              "\n",
              "    } while (position < fileData.byteLength);\n",
              "  }\n",
              "\n",
              "  // All done.\n",
              "  yield {\n",
              "    response: {\n",
              "      action: 'complete',\n",
              "    }\n",
              "  };\n",
              "}\n",
              "\n",
              "scope.google = scope.google || {};\n",
              "scope.google.colab = scope.google.colab || {};\n",
              "scope.google.colab._files = {\n",
              "  _uploadFiles,\n",
              "  _uploadFilesContinue,\n",
              "};\n",
              "})(self);\n",
              "</script> "
            ]
          },
          "metadata": {}
        },
        {
          "output_type": "stream",
          "name": "stdout",
          "text": [
            "Saving kaggle.json to kaggle.json\n"
          ]
        },
        {
          "output_type": "execute_result",
          "data": {
            "text/plain": [
              "{'kaggle.json': b'{\"username\":\"karinaoctaviana\",\"key\":\"c865bd087a8d570bcfd88e46cbb042bb\"}'}"
            ]
          },
          "metadata": {},
          "execution_count": 2
        }
      ],
      "source": [
        "from google.colab import files\n",
        "files.upload()"
      ]
    },
    {
      "cell_type": "code",
      "execution_count": null,
      "metadata": {
        "id": "VqqHpOSrt10J"
      },
      "outputs": [],
      "source": [
        "! mkdir ~/.kaggle"
      ]
    },
    {
      "cell_type": "code",
      "execution_count": null,
      "metadata": {
        "id": "dqQUAL98t3KY"
      },
      "outputs": [],
      "source": [
        "# Menyalin kaggle.json ke dalam folder yang sudah dibuat\n",
        "! cp kaggle.json ~/.kaggle/"
      ]
    },
    {
      "cell_type": "code",
      "execution_count": null,
      "metadata": {
        "id": "9VmHwbOkt4YR"
      },
      "outputs": [],
      "source": [
        "# Memberikan izin untuk json bertindak\n",
        "!chmod 600 ~/.kaggle/kaggle.json"
      ]
    },
    {
      "cell_type": "code",
      "execution_count": null,
      "metadata": {
        "colab": {
          "base_uri": "https://localhost:8080/"
        },
        "id": "g3Q3S5uN6Kvi",
        "outputId": "9e203fa4-602e-449a-9449-12ecc28be322"
      },
      "outputs": [
        {
          "output_type": "stream",
          "name": "stdout",
          "text": [
            "Downloading cataracteyeskaggle.zip to /content\n",
            " 90% 10.0M/11.2M [00:01<00:00, 11.5MB/s]\n",
            "100% 11.2M/11.2M [00:01<00:00, 7.51MB/s]\n"
          ]
        }
      ],
      "source": [
        "!kaggle datasets download -d thiagosantosborges/cataracteyeskaggle"
      ]
    },
    {
      "cell_type": "code",
      "execution_count": null,
      "metadata": {
        "colab": {
          "base_uri": "https://localhost:8080/"
        },
        "id": "foxa3KdM6OoQ",
        "outputId": "69d54b5b-a660-47f6-f5e7-3c123b15ab0f"
      },
      "outputs": [
        {
          "output_type": "stream",
          "name": "stdout",
          "text": [
            "Archive:  /content/cataracteyeskaggle.zip\n",
            "  inflating: cataract-eyes-kaggle/test/cataract/2018_drauzio_catarata-olho_48967279_arztsamui_outubro_1000x563.jpg  \n",
            "  inflating: cataract-eyes-kaggle/test/cataract/4ea6b550-95ca-0137-cef9-6231c35b6685--minified.png  \n",
            "  inflating: cataract-eyes-kaggle/test/cataract/CIRURGIA-DE-PTERGIO.jpg  \n",
            "  inflating: cataract-eyes-kaggle/test/cataract/Depositphotos_57695057_m-2015.jpg  \n",
            "  inflating: cataract-eyes-kaggle/test/cataract/Dicas-Prevenir-Catarata.jpg  \n",
            "  inflating: cataract-eyes-kaggle/test/cataract/Grauer-Star-Senior.jpg  \n",
            "  inflating: cataract-eyes-kaggle/test/cataract/cat1.jpg  \n",
            "  inflating: cataract-eyes-kaggle/test/cataract/catarata_1059886916.jpg  \n",
            "  inflating: cataract-eyes-kaggle/test/cataract/catarata_crianca.jpg  \n",
            "  inflating: cataract-eyes-kaggle/test/cataract/especialidade-pterigio-iop-2019.jpg  \n",
            "  inflating: cataract-eyes-kaggle/test/cataract/image10.jpg  \n",
            "  inflating: cataract-eyes-kaggle/test/cataract/image11.jpg  \n",
            "  inflating: cataract-eyes-kaggle/test/cataract/image12.jpg  \n",
            "  inflating: cataract-eyes-kaggle/test/cataract/image13.jpg  \n",
            "  inflating: cataract-eyes-kaggle/test/cataract/image7.jpg  \n",
            "  inflating: cataract-eyes-kaggle/test/cataract/image8.jpg  \n",
            "  inflating: cataract-eyes-kaggle/test/cataract/image9.jpg  \n",
            "  inflating: cataract-eyes-kaggle/test/normal/image0.jpg  \n",
            "  inflating: cataract-eyes-kaggle/test/normal/image1.jpg  \n",
            "  inflating: cataract-eyes-kaggle/test/normal/image10.jpg  \n",
            "  inflating: cataract-eyes-kaggle/test/normal/image2.jpg  \n",
            "  inflating: cataract-eyes-kaggle/test/normal/image3.jpg  \n",
            "  inflating: cataract-eyes-kaggle/test/normal/image4.jpg  \n",
            "  inflating: cataract-eyes-kaggle/test/normal/image5.jpg  \n",
            "  inflating: cataract-eyes-kaggle/test/normal/image6.jpg  \n",
            "  inflating: cataract-eyes-kaggle/test/normal/image7.jpg  \n",
            "  inflating: cataract-eyes-kaggle/test/normal/image8.jpg  \n",
            "  inflating: cataract-eyes-kaggle/test/normal/image9.jpg  \n",
            "  inflating: cataract-eyes-kaggle/test/normal/istockphoto-1139091656-612x612.jpg  \n",
            "  inflating: cataract-eyes-kaggle/test/normal/istockphoto-1140598293-612x612.jpg  \n",
            "  inflating: cataract-eyes-kaggle/test/normal/istockphoto-1164197228-612x612.jpg  \n",
            "  inflating: cataract-eyes-kaggle/test/normal/istockphoto-1171118216-612x612.jpg  \n",
            "  inflating: cataract-eyes-kaggle/test/normal/istockphoto-472682408-612x612.jpg  \n",
            "  inflating: cataract-eyes-kaggle/train/cataract/Instituto-de-Olhos-Limongi-Facebook-Catarata-pode-cegar-e1491935015484.png  \n",
            "  inflating: cataract-eyes-kaggle/train/cataract/Marca-Dagua_mancha_branca_olho-1-800x430.jpg  \n",
            "  inflating: cataract-eyes-kaggle/train/cataract/image0.jpg  \n",
            "  inflating: cataract-eyes-kaggle/train/cataract/image1.jpg  \n",
            "  inflating: cataract-eyes-kaggle/train/cataract/image10.jpg  \n",
            "  inflating: cataract-eyes-kaggle/train/cataract/image100.jpg  \n",
            "  inflating: cataract-eyes-kaggle/train/cataract/image101.jpg  \n",
            "  inflating: cataract-eyes-kaggle/train/cataract/image102.jpg  \n",
            "  inflating: cataract-eyes-kaggle/train/cataract/image103.jpg  \n",
            "  inflating: cataract-eyes-kaggle/train/cataract/image104.jpg  \n",
            "  inflating: cataract-eyes-kaggle/train/cataract/image105.jpg  \n",
            "  inflating: cataract-eyes-kaggle/train/cataract/image106.jpg  \n",
            "  inflating: cataract-eyes-kaggle/train/cataract/image107.jpg  \n",
            "  inflating: cataract-eyes-kaggle/train/cataract/image108.jpg  \n",
            "  inflating: cataract-eyes-kaggle/train/cataract/image109.jpg  \n",
            "  inflating: cataract-eyes-kaggle/train/cataract/image11.jpg  \n",
            "  inflating: cataract-eyes-kaggle/train/cataract/image110.jpg  \n",
            "  inflating: cataract-eyes-kaggle/train/cataract/image111.jpg  \n",
            "  inflating: cataract-eyes-kaggle/train/cataract/image112.jpg  \n",
            "  inflating: cataract-eyes-kaggle/train/cataract/image113.jpg  \n",
            "  inflating: cataract-eyes-kaggle/train/cataract/image114.jpg  \n",
            "  inflating: cataract-eyes-kaggle/train/cataract/image115.jpg  \n",
            "  inflating: cataract-eyes-kaggle/train/cataract/image116.jpg  \n",
            "  inflating: cataract-eyes-kaggle/train/cataract/image117.jpg  \n",
            "  inflating: cataract-eyes-kaggle/train/cataract/image118.jpg  \n",
            "  inflating: cataract-eyes-kaggle/train/cataract/image119.jpg  \n",
            "  inflating: cataract-eyes-kaggle/train/cataract/image12.jpg  \n",
            "  inflating: cataract-eyes-kaggle/train/cataract/image120.jpg  \n",
            "  inflating: cataract-eyes-kaggle/train/cataract/image121.jpg  \n",
            "  inflating: cataract-eyes-kaggle/train/cataract/image122.jpg  \n",
            "  inflating: cataract-eyes-kaggle/train/cataract/image123.jpg  \n",
            "  inflating: cataract-eyes-kaggle/train/cataract/image124.jpg  \n",
            "  inflating: cataract-eyes-kaggle/train/cataract/image125.jpg  \n",
            "  inflating: cataract-eyes-kaggle/train/cataract/image126.jpg  \n",
            "  inflating: cataract-eyes-kaggle/train/cataract/image127.jpg  \n",
            "  inflating: cataract-eyes-kaggle/train/cataract/image128.jpg  \n",
            "  inflating: cataract-eyes-kaggle/train/cataract/image129.jpg  \n",
            "  inflating: cataract-eyes-kaggle/train/cataract/image13.jpg  \n",
            "  inflating: cataract-eyes-kaggle/train/cataract/image130.jpg  \n",
            "  inflating: cataract-eyes-kaggle/train/cataract/image131.jpg  \n",
            "  inflating: cataract-eyes-kaggle/train/cataract/image132.jpg  \n",
            "  inflating: cataract-eyes-kaggle/train/cataract/image133.jpg  \n",
            "  inflating: cataract-eyes-kaggle/train/cataract/image134.jpg  \n",
            "  inflating: cataract-eyes-kaggle/train/cataract/image135.jpg  \n",
            "  inflating: cataract-eyes-kaggle/train/cataract/image136.jpg  \n",
            "  inflating: cataract-eyes-kaggle/train/cataract/image137.jpg  \n",
            "  inflating: cataract-eyes-kaggle/train/cataract/image138.jpg  \n",
            "  inflating: cataract-eyes-kaggle/train/cataract/image139.jpg  \n",
            "  inflating: cataract-eyes-kaggle/train/cataract/image140.jpg  \n",
            "  inflating: cataract-eyes-kaggle/train/cataract/image141.jpg  \n",
            "  inflating: cataract-eyes-kaggle/train/cataract/image142.jpg  \n",
            "  inflating: cataract-eyes-kaggle/train/cataract/image143.jpg  \n",
            "  inflating: cataract-eyes-kaggle/train/cataract/image144.jpg  \n",
            "  inflating: cataract-eyes-kaggle/train/cataract/image145.jpg  \n",
            "  inflating: cataract-eyes-kaggle/train/cataract/image146.jpg  \n",
            "  inflating: cataract-eyes-kaggle/train/cataract/image147.jpg  \n",
            "  inflating: cataract-eyes-kaggle/train/cataract/image148.jpg  \n",
            "  inflating: cataract-eyes-kaggle/train/cataract/image149.jpg  \n",
            "  inflating: cataract-eyes-kaggle/train/cataract/image150.jpg  \n",
            "  inflating: cataract-eyes-kaggle/train/cataract/image151.jpg  \n",
            "  inflating: cataract-eyes-kaggle/train/cataract/image152.jpg  \n",
            "  inflating: cataract-eyes-kaggle/train/cataract/image153.jpg  \n",
            "  inflating: cataract-eyes-kaggle/train/cataract/image154.jpg  \n",
            "  inflating: cataract-eyes-kaggle/train/cataract/image155.jpg  \n",
            "  inflating: cataract-eyes-kaggle/train/cataract/image156.jpg  \n",
            "  inflating: cataract-eyes-kaggle/train/cataract/image157.jpg  \n",
            "  inflating: cataract-eyes-kaggle/train/cataract/image158.jpg  \n",
            "  inflating: cataract-eyes-kaggle/train/cataract/image159.jpg  \n",
            "  inflating: cataract-eyes-kaggle/train/cataract/image160.jpg  \n",
            "  inflating: cataract-eyes-kaggle/train/cataract/image161.jpg  \n",
            "  inflating: cataract-eyes-kaggle/train/cataract/image162.jpg  \n",
            "  inflating: cataract-eyes-kaggle/train/cataract/image163.jpg  \n",
            "  inflating: cataract-eyes-kaggle/train/cataract/image164.jpg  \n",
            "  inflating: cataract-eyes-kaggle/train/cataract/image165.jpg  \n",
            "  inflating: cataract-eyes-kaggle/train/cataract/image166.jpg  \n",
            "  inflating: cataract-eyes-kaggle/train/cataract/image167.jpg  \n",
            "  inflating: cataract-eyes-kaggle/train/cataract/image168.jpg  \n",
            "  inflating: cataract-eyes-kaggle/train/cataract/image169.jpg  \n",
            "  inflating: cataract-eyes-kaggle/train/cataract/image18.jpg  \n",
            "  inflating: cataract-eyes-kaggle/train/cataract/image19.jpg  \n",
            "  inflating: cataract-eyes-kaggle/train/cataract/image2.jpg  \n",
            "  inflating: cataract-eyes-kaggle/train/cataract/image20.jpg  \n",
            "  inflating: cataract-eyes-kaggle/train/cataract/image21.jpg  \n",
            "  inflating: cataract-eyes-kaggle/train/cataract/image22.jpg  \n",
            "  inflating: cataract-eyes-kaggle/train/cataract/image24.jpg  \n",
            "  inflating: cataract-eyes-kaggle/train/cataract/image25.jpg  \n",
            "  inflating: cataract-eyes-kaggle/train/cataract/image26.jpg  \n",
            "  inflating: cataract-eyes-kaggle/train/cataract/image27.jpg  \n",
            "  inflating: cataract-eyes-kaggle/train/cataract/image28.jpg  \n",
            "  inflating: cataract-eyes-kaggle/train/cataract/image29.jpg  \n",
            "  inflating: cataract-eyes-kaggle/train/cataract/image3.jpg  \n",
            "  inflating: cataract-eyes-kaggle/train/cataract/image30.jpg  \n",
            "  inflating: cataract-eyes-kaggle/train/cataract/image4.jpg  \n",
            "  inflating: cataract-eyes-kaggle/train/cataract/image40.jpg  \n",
            "  inflating: cataract-eyes-kaggle/train/cataract/image5.jpg  \n",
            "  inflating: cataract-eyes-kaggle/train/cataract/image6.jpg  \n",
            "  inflating: cataract-eyes-kaggle/train/cataract/image7.jpg  \n",
            "  inflating: cataract-eyes-kaggle/train/cataract/image8.jpg  \n",
            "  inflating: cataract-eyes-kaggle/train/cataract/image85.jpg  \n",
            "  inflating: cataract-eyes-kaggle/train/cataract/image86.jpg  \n",
            "  inflating: cataract-eyes-kaggle/train/cataract/image87.jpg  \n",
            "  inflating: cataract-eyes-kaggle/train/cataract/image88.jpg  \n",
            "  inflating: cataract-eyes-kaggle/train/cataract/image89.jpg  \n",
            "  inflating: cataract-eyes-kaggle/train/cataract/image9.jpg  \n",
            "  inflating: cataract-eyes-kaggle/train/cataract/image90.jpg  \n",
            "  inflating: cataract-eyes-kaggle/train/cataract/image91.jpg  \n",
            "  inflating: cataract-eyes-kaggle/train/cataract/image92.jpg  \n",
            "  inflating: cataract-eyes-kaggle/train/cataract/image93.jpg  \n",
            "  inflating: cataract-eyes-kaggle/train/cataract/image94.jpg  \n",
            "  inflating: cataract-eyes-kaggle/train/cataract/image95.jpg  \n",
            "  inflating: cataract-eyes-kaggle/train/cataract/image96.jpg  \n",
            "  inflating: cataract-eyes-kaggle/train/cataract/image97.jpg  \n",
            "  inflating: cataract-eyes-kaggle/train/cataract/image98.jpg  \n",
            "  inflating: cataract-eyes-kaggle/train/cataract/image99.jpg  \n",
            "  inflating: cataract-eyes-kaggle/train/cataract/images.jpg  \n",
            "  inflating: cataract-eyes-kaggle/train/cataract/istockphoto-1218518652-612x612.jpg  \n",
            "  inflating: cataract-eyes-kaggle/train/cataract/istockphoto-1282091631-612x612.jpg  \n",
            "  inflating: cataract-eyes-kaggle/train/cataract/istockphoto-1290688606-612x612.jpg  \n",
            "  inflating: cataract-eyes-kaggle/train/cataract/istockphoto-1297176268-612x612.jpg  \n",
            "  inflating: cataract-eyes-kaggle/train/cataract/istockphoto-1339249901-612x612.jpg  \n",
            "  inflating: cataract-eyes-kaggle/train/cataract/istockphoto-1347666774-612x612.jpg  \n",
            "  inflating: cataract-eyes-kaggle/train/cataract/istockphoto-1356560292-612x612.jpg  \n",
            "  inflating: cataract-eyes-kaggle/train/cataract/istockphoto-1358263381-612x612.jpg  \n",
            "  inflating: cataract-eyes-kaggle/train/cataract/istockphoto-174634910-612x612.jpg  \n",
            "  inflating: cataract-eyes-kaggle/train/cataract/istockphoto-472593350-612x612.jpg  \n",
            "  inflating: cataract-eyes-kaggle/train/cataract/istockphoto-472980092-612x612.jpg  \n",
            "  inflating: cataract-eyes-kaggle/train/cataract/istockphoto-511383324-612x612.jpg  \n",
            "  inflating: cataract-eyes-kaggle/train/cataract/istockphoto-519168100-612x612.jpg  \n",
            "  inflating: cataract-eyes-kaggle/train/cataract/istockphoto-842772232-612x612.jpg  \n",
            "  inflating: cataract-eyes-kaggle/train/cataract/istockphoto-859654116-612x612.jpg  \n",
            "  inflating: cataract-eyes-kaggle/train/cataract/istockphoto-984846596-612x612.jpg  \n",
            "  inflating: cataract-eyes-kaggle/train/cataract/mutirao-acontece-em-cachoeira-paulista-para-realizar-operacoes-de-catarata1444051341-480x300-20190131160938.jpg  \n",
            "  inflating: cataract-eyes-kaggle/train/cataract/olhocatarata-1.jpg  \n",
            "  inflating: cataract-eyes-kaggle/train/cataract/programa-cataratas-monterrey.jpg  \n",
            "  inflating: cataract-eyes-kaggle/train/cataract/shutterstock_593311505.jpg  \n",
            "  inflating: cataract-eyes-kaggle/train/normal/image0.jpg  \n",
            "  inflating: cataract-eyes-kaggle/train/normal/image1.jpg  \n",
            "  inflating: cataract-eyes-kaggle/train/normal/image10.jpg  \n",
            "  inflating: cataract-eyes-kaggle/train/normal/image11.jpg  \n",
            "  inflating: cataract-eyes-kaggle/train/normal/image12.jpg  \n",
            "  inflating: cataract-eyes-kaggle/train/normal/image13.jpg  \n",
            "  inflating: cataract-eyes-kaggle/train/normal/image14.jpg  \n",
            "  inflating: cataract-eyes-kaggle/train/normal/image15.jpg  \n",
            "  inflating: cataract-eyes-kaggle/train/normal/image16.jpg  \n",
            "  inflating: cataract-eyes-kaggle/train/normal/image17.jpg  \n",
            "  inflating: cataract-eyes-kaggle/train/normal/image18.jpg  \n",
            "  inflating: cataract-eyes-kaggle/train/normal/image19.jpg  \n",
            "  inflating: cataract-eyes-kaggle/train/normal/image2.jpg  \n",
            "  inflating: cataract-eyes-kaggle/train/normal/image20.jpg  \n",
            "  inflating: cataract-eyes-kaggle/train/normal/image21.jpg  \n",
            "  inflating: cataract-eyes-kaggle/train/normal/image22.jpg  \n",
            "  inflating: cataract-eyes-kaggle/train/normal/image2200.jpeg  \n",
            "  inflating: cataract-eyes-kaggle/train/normal/image23.jpg  \n",
            "  inflating: cataract-eyes-kaggle/train/normal/image24.jpg  \n",
            "  inflating: cataract-eyes-kaggle/train/normal/image25.jpg  \n",
            "  inflating: cataract-eyes-kaggle/train/normal/image2500.jpeg  \n",
            "  inflating: cataract-eyes-kaggle/train/normal/image26.jpg  \n",
            "  inflating: cataract-eyes-kaggle/train/normal/image27.jpg  \n",
            "  inflating: cataract-eyes-kaggle/train/normal/image28.jpg  \n",
            "  inflating: cataract-eyes-kaggle/train/normal/image29.jpg  \n",
            "  inflating: cataract-eyes-kaggle/train/normal/image3.jpg  \n",
            "  inflating: cataract-eyes-kaggle/train/normal/image30.jpg  \n",
            "  inflating: cataract-eyes-kaggle/train/normal/image31.jpg  \n",
            "  inflating: cataract-eyes-kaggle/train/normal/image32.jpg  \n",
            "  inflating: cataract-eyes-kaggle/train/normal/image33.jpg  \n",
            "  inflating: cataract-eyes-kaggle/train/normal/image34.jpg  \n",
            "  inflating: cataract-eyes-kaggle/train/normal/image35.jpg  \n",
            "  inflating: cataract-eyes-kaggle/train/normal/image36.jpg  \n",
            "  inflating: cataract-eyes-kaggle/train/normal/image37.jpg  \n",
            "  inflating: cataract-eyes-kaggle/train/normal/image38.jpg  \n",
            "  inflating: cataract-eyes-kaggle/train/normal/image39.jpg  \n",
            "  inflating: cataract-eyes-kaggle/train/normal/image4.jpg  \n",
            "  inflating: cataract-eyes-kaggle/train/normal/image40.jpg  \n",
            "  inflating: cataract-eyes-kaggle/train/normal/image41.jpg  \n",
            "  inflating: cataract-eyes-kaggle/train/normal/image42.jpg  \n",
            "  inflating: cataract-eyes-kaggle/train/normal/image43.jpg  \n",
            "  inflating: cataract-eyes-kaggle/train/normal/image44.jpg  \n",
            "  inflating: cataract-eyes-kaggle/train/normal/image45.jpg  \n",
            "  inflating: cataract-eyes-kaggle/train/normal/image46.jpg  \n",
            "  inflating: cataract-eyes-kaggle/train/normal/image47.jpg  \n",
            "  inflating: cataract-eyes-kaggle/train/normal/image48.jpg  \n",
            "  inflating: cataract-eyes-kaggle/train/normal/image49.jpg  \n",
            "  inflating: cataract-eyes-kaggle/train/normal/image5.jpg  \n",
            "  inflating: cataract-eyes-kaggle/train/normal/image50.jpg  \n",
            "  inflating: cataract-eyes-kaggle/train/normal/image51.jpg  \n",
            "  inflating: cataract-eyes-kaggle/train/normal/image52.jpg  \n",
            "  inflating: cataract-eyes-kaggle/train/normal/image53.jpg  \n",
            "  inflating: cataract-eyes-kaggle/train/normal/image54.jpg  \n",
            "  inflating: cataract-eyes-kaggle/train/normal/image55.jpg  \n",
            "  inflating: cataract-eyes-kaggle/train/normal/image56.jpg  \n",
            "  inflating: cataract-eyes-kaggle/train/normal/image57.jpg  \n",
            "  inflating: cataract-eyes-kaggle/train/normal/image58.jpg  \n",
            "  inflating: cataract-eyes-kaggle/train/normal/image59.jpg  \n",
            "  inflating: cataract-eyes-kaggle/train/normal/image6.jpg  \n",
            "  inflating: cataract-eyes-kaggle/train/normal/image60.jpg  \n",
            "  inflating: cataract-eyes-kaggle/train/normal/image61.jpg  \n",
            "  inflating: cataract-eyes-kaggle/train/normal/image62.jpg  \n",
            "  inflating: cataract-eyes-kaggle/train/normal/image63.jpg  \n",
            "  inflating: cataract-eyes-kaggle/train/normal/image64.jpg  \n",
            "  inflating: cataract-eyes-kaggle/train/normal/image65.jpg  \n",
            "  inflating: cataract-eyes-kaggle/train/normal/image66.jpg  \n",
            "  inflating: cataract-eyes-kaggle/train/normal/image67.jpg  \n",
            "  inflating: cataract-eyes-kaggle/train/normal/image68.jpg  \n",
            "  inflating: cataract-eyes-kaggle/train/normal/image69.jpg  \n",
            "  inflating: cataract-eyes-kaggle/train/normal/image7.jpg  \n",
            "  inflating: cataract-eyes-kaggle/train/normal/image70.jpg  \n",
            "  inflating: cataract-eyes-kaggle/train/normal/image71.jpg  \n",
            "  inflating: cataract-eyes-kaggle/train/normal/image72.jpg  \n",
            "  inflating: cataract-eyes-kaggle/train/normal/image73.jpg  \n",
            "  inflating: cataract-eyes-kaggle/train/normal/image74.jpg  \n",
            "  inflating: cataract-eyes-kaggle/train/normal/image75.jpg  \n",
            "  inflating: cataract-eyes-kaggle/train/normal/image76.jpg  \n",
            "  inflating: cataract-eyes-kaggle/train/normal/image77.jpg  \n",
            "  inflating: cataract-eyes-kaggle/train/normal/image78.jpg  \n",
            "  inflating: cataract-eyes-kaggle/train/normal/image79.jpg  \n",
            "  inflating: cataract-eyes-kaggle/train/normal/image8.jpg  \n",
            "  inflating: cataract-eyes-kaggle/train/normal/image80.jpg  \n",
            "  inflating: cataract-eyes-kaggle/train/normal/image9.jpg  \n",
            "  inflating: cataract-eyes-kaggle/train/normal/istockphoto-1188917083-612x612.jpg  \n",
            "  inflating: cataract-eyes-kaggle/train/normal/istockphoto-1192578773-612x612.jpg  \n",
            "  inflating: cataract-eyes-kaggle/train/normal/istockphoto-1210314194-612x612.jpg  \n",
            "  inflating: cataract-eyes-kaggle/train/normal/istockphoto-1214499905-612x612.jpg  \n",
            "  inflating: cataract-eyes-kaggle/train/normal/istockphoto-1287816319-612x612.jpg  \n",
            "  inflating: cataract-eyes-kaggle/train/normal/istockphoto-1288409912-612x612.jpg  \n",
            "  inflating: cataract-eyes-kaggle/train/normal/istockphoto-1288613902-612x612.jpg  \n",
            "  inflating: cataract-eyes-kaggle/train/normal/istockphoto-1301268156-612x612.jpg  \n",
            "  inflating: cataract-eyes-kaggle/train/normal/istockphoto-1313424117-612x612.jpg  \n",
            "  inflating: cataract-eyes-kaggle/train/normal/istockphoto-1313995371-612x612.jpg  \n"
          ]
        }
      ],
      "source": [
        "!unzip /content/cataracteyeskaggle.zip"
      ]
    },
    {
      "cell_type": "code",
      "execution_count": null,
      "metadata": {
        "id": "72hAItWz6dAI"
      },
      "outputs": [],
      "source": [
        "import tensorflow as tf\n",
        "from tensorflow import keras\n",
        "from tensorflow.keras import backend as K\n",
        "from tensorflow.keras.layers import Dense, Activation,Dropout,Conv2D, MaxPooling2D,BatchNormalization, Flatten\n",
        "from tensorflow.keras.optimizers import Adam, Adamax\n",
        "from tensorflow.keras.metrics import binary_crossentropy\n",
        "from tensorflow.keras import regularizers\n",
        "from tensorflow.keras.preprocessing.image import ImageDataGenerator\n",
        "from tensorflow.keras.models import Model, load_model, Sequential\n",
        "import numpy as np\n",
        "import pandas as pd\n",
        "import shutil\n",
        "import time\n",
        "import cv2 as cv2\n",
        "from tqdm import tqdm\n",
        "from sklearn.model_selection import train_test_split\n",
        "\n",
        "import matplotlib.pyplot as plt\n",
        "from matplotlib.pyplot import imshow\n",
        "import os\n",
        "import seaborn as sns\n",
        "sns.set_style('darkgrid')\n",
        "from PIL import Image\n",
        "from sklearn.metrics import confusion_matrix, classification_report\n",
        "import zipfile, os"
      ]
    },
    {
      "cell_type": "code",
      "execution_count": null,
      "metadata": {
        "id": "pCdY_6Wf6Tia"
      },
      "outputs": [],
      "source": [
        "train_dir = \"/content/cataract-eyes-kaggle/train\"\n",
        "test_dir = \"/content/cataract-eyes-kaggle/test\"\n",
        "\n"
      ]
    },
    {
      "cell_type": "code",
      "execution_count": null,
      "metadata": {
        "id": "D8CD4IDN6YHS"
      },
      "outputs": [],
      "source": [
        "train_datagen = ImageDataGenerator(\n",
        "        rescale=1./255,\n",
        "        shear_range=0.2,\n",
        "        zoom_range=0.2,\n",
        "        horizontal_flip=True)\n",
        "\n",
        "test_datagen = ImageDataGenerator(rescale=1./255)"
      ]
    },
    {
      "cell_type": "code",
      "execution_count": null,
      "metadata": {
        "id": "HQbkr28V6pRH",
        "colab": {
          "base_uri": "https://localhost:8080/"
        },
        "outputId": "a37e4090-c7de-4bb3-d537-97617f2f4f1f"
      },
      "outputs": [
        {
          "output_type": "stream",
          "name": "stdout",
          "text": [
            "Found 228 images belonging to 2 classes.\n",
            "Found 33 images belonging to 2 classes.\n"
          ]
        }
      ],
      "source": [
        "train_generator = train_datagen.flow_from_directory(\n",
        "        train_dir,\n",
        "        target_size=(224, 224),\n",
        "        batch_size=32,\n",
        "        class_mode='binary')\n",
        "validation_generator = test_datagen.flow_from_directory(\n",
        "        test_dir,\n",
        "        shuffle=False,\n",
        "        target_size=(224, 224),\n",
        "        batch_size=32,\n",
        "        class_mode='binary')"
      ]
    },
    {
      "cell_type": "code",
      "source": [
        "train_generator.class_indices"
      ],
      "metadata": {
        "colab": {
          "base_uri": "https://localhost:8080/"
        },
        "id": "aNOwDdYWx1hH",
        "outputId": "7678200d-fe66-4576-e612-effd4b005309"
      },
      "execution_count": null,
      "outputs": [
        {
          "output_type": "execute_result",
          "data": {
            "text/plain": [
              "{'cataract': 0, 'normal': 1}"
            ]
          },
          "metadata": {},
          "execution_count": 12
        }
      ]
    },
    {
      "cell_type": "code",
      "execution_count": null,
      "metadata": {
        "id": "BJtu_Gp872zf"
      },
      "outputs": [],
      "source": [
        "from tensorflow.keras.callbacks import EarlyStopping\n",
        "earlystop = EarlyStopping(monitor=\"val_accuracy\",patience=5,verbose=1)\n"
      ]
    },
    {
      "cell_type": "code",
      "execution_count": null,
      "metadata": {
        "id": "yRCclhpfXRMQ"
      },
      "outputs": [],
      "source": [
        "# View an image\n",
        "import matplotlib.pyplot as plt\n",
        "import matplotlib.image as mpimg\n",
        "import random\n",
        "import os\n",
        "\n",
        "def view_random_image(target_dir, target_class):\n",
        "  # Setup target directory (we'll view images from here)\n",
        "  target_folder = target_dir+target_class\n",
        "\n",
        "  # Get a random image path\n",
        "  random_image = random.sample(os.listdir(target_folder), 1)\n",
        "\n",
        "  # Read in the image and plot it using matplotlib\n",
        "  img = mpimg.imread(target_folder + \"/\" + random_image[0])\n",
        "  plt.imshow(img)\n",
        "  plt.title(target_class)\n",
        "  plt.axis(\"off\");\n",
        "\n",
        "  print(f\"Image shape: {img.shape}\") # show the shape of the image\n",
        "\n",
        "  return img"
      ]
    },
    {
      "cell_type": "code",
      "execution_count": null,
      "metadata": {
        "id": "5f_TliJMXF3I",
        "colab": {
          "base_uri": "https://localhost:8080/",
          "height": 197
        },
        "outputId": "70e8eafd-a136-4c24-8a3f-d7c2790e78fb"
      },
      "outputs": [
        {
          "output_type": "stream",
          "name": "stdout",
          "text": [
            "Image shape: (84, 112, 3)\n",
            "Image shape: (183, 275, 3)\n"
          ]
        },
        {
          "output_type": "display_data",
          "data": {
            "text/plain": [
              "<Figure size 432x288 with 2 Axes>"
            ],
            "image/png": "[encoded data removed]"
          },
          "metadata": {}
        }
      ],
      "source": [
        "plt.figure()\n",
        "plt.subplot(1, 2, 1)\n",
        "steak_img = view_random_image(\"/content/cataract-eyes-kaggle/train/\", \"cataract\")\n",
        "plt.subplot(1, 2, 2)\n",
        "pizza_img = view_random_image(\"/content/cataract-eyes-kaggle/train/\", \"normal\")"
      ]
    },
    {
      "cell_type": "code",
      "execution_count": null,
      "metadata": {
        "id": "BQO5IFn06r71",
        "colab": {
          "base_uri": "https://localhost:8080/"
        },
        "outputId": "95d7e69c-aa3b-41ea-89a9-a1c912a9c6da"
      },
      "outputs": [
        {
          "output_type": "stream",
          "name": "stdout",
          "text": [
            "Downloading data from https://storage.googleapis.com/tensorflow/keras-applications/vgg19/vgg19_weights_tf_dim_ordering_tf_kernels_notop.h5\n",
            "80134624/80134624 [==============================] - 4s 0us/step\n"
          ]
        }
      ],
      "source": [
        "# from tensorflow.keras.applications.NASNetMobile import NASNetMobile\n",
        "vgg19_model = tf.keras.applications.VGG19(input_shape = (224, 224, 3),\n",
        "                                    weights='imagenet',\n",
        "                                    include_top=False)"
      ]
    },
    {
      "cell_type": "code",
      "source": [
        "# from tensorflow.keras.applications.NASNetMobile import NASNetMobile\n",
        "mobilenet_model = tf.keras.applications.MobileNet(input_shape = (224, 224, 3),\n",
        "                                    weights='imagenet',\n",
        "                                    include_top=False)"
      ],
      "metadata": {
        "colab": {
          "base_uri": "https://localhost:8080/"
        },
        "id": "bNTz5ZBq2dGc",
        "outputId": "2fd4809d-fd7d-4e89-faea-074f150411cc"
      },
      "execution_count": null,
      "outputs": [
        {
          "output_type": "stream",
          "name": "stdout",
          "text": [
            "Downloading data from https://storage.googleapis.com/tensorflow/keras-applications/mobilenet/mobilenet_1_0_224_tf_no_top.h5\n",
            "17225924/17225924 [==============================] - 2s 0us/step\n"
          ]
        }
      ]
    },
    {
      "cell_type": "code",
      "source": [
        "for layer in mobilenet_model.layers:\n",
        "        layer.trainable = False\n",
        "\n",
        "\n",
        "x = keras.layers.Flatten()(mobilenet_model.output)\n",
        "x = keras.layers.Dense(128, activation='relu')(x)\n",
        "x = keras.layers.Dropout(0.2)(x)\n",
        "x = keras.layers.Dense(1, activation='sigmoid') (x)\n",
        "\n",
        "modelmobilenet = tf.keras.models.Model(mobilenet_model.input, x)\n",
        "\n",
        "modelmobilenet.compile(optimizer = 'adam', loss = 'binary_crossentropy',metrics = ['accuracy'])\n",
        "historymobilenet = modelmobilenet.fit(train_generator,\n",
        "                    epochs = 50,\n",
        "                    validation_data = validation_generator,\n",
        "                    callbacks=[earlystop])"
      ],
      "metadata": {
        "colab": {
          "base_uri": "https://localhost:8080/"
        },
        "id": "6W74sVLl2lbm",
        "outputId": "c9c5cd84-2b7c-4d77-a43a-50c5e1ec333d"
      },
      "execution_count": null,
      "outputs": [
        {
          "output_type": "stream",
          "name": "stdout",
          "text": [
            "Epoch 1/50\n",
            "8/8 [==============================] - 13s 474ms/step - loss: 5.1332 - accuracy: 0.7193 - val_loss: 3.0765 - val_accuracy: 0.8182\n",
            "Epoch 2/50\n",
            "8/8 [==============================] - 3s 410ms/step - loss: 0.3877 - accuracy: 0.9474 - val_loss: 2.4757 - val_accuracy: 0.8182\n",
            "Epoch 3/50\n",
            "8/8 [==============================] - 3s 411ms/step - loss: 0.1760 - accuracy: 0.9693 - val_loss: 2.2777 - val_accuracy: 0.8788\n",
            "Epoch 4/50\n",
            "8/8 [==============================] - 3s 405ms/step - loss: 0.0687 - accuracy: 0.9868 - val_loss: 2.4244 - val_accuracy: 0.8788\n",
            "Epoch 5/50\n",
            "8/8 [==============================] - 3s 403ms/step - loss: 0.1689 - accuracy: 0.9737 - val_loss: 2.5869 - val_accuracy: 0.8788\n",
            "Epoch 6/50\n",
            "8/8 [==============================] - 3s 407ms/step - loss: 0.1156 - accuracy: 0.9868 - val_loss: 2.8123 - val_accuracy: 0.9091\n",
            "Epoch 7/50\n",
            "8/8 [==============================] - 3s 410ms/step - loss: 0.2354 - accuracy: 0.9737 - val_loss: 2.6518 - val_accuracy: 0.9091\n",
            "Epoch 8/50\n",
            "8/8 [==============================] - 3s 409ms/step - loss: 0.2167 - accuracy: 0.9781 - val_loss: 2.4764 - val_accuracy: 0.8788\n",
            "Epoch 9/50\n",
            "8/8 [==============================] - 3s 418ms/step - loss: 0.2309 - accuracy: 0.9825 - val_loss: 2.4849 - val_accuracy: 0.8788\n",
            "Epoch 10/50\n",
            "8/8 [==============================] - 3s 464ms/step - loss: 0.3126 - accuracy: 0.9825 - val_loss: 2.0724 - val_accuracy: 0.9091\n",
            "Epoch 11/50\n",
            "8/8 [==============================] - 3s 421ms/step - loss: 0.0448 - accuracy: 0.9956 - val_loss: 1.9478 - val_accuracy: 0.9394\n",
            "Epoch 12/50\n",
            "8/8 [==============================] - 3s 419ms/step - loss: 0.3149 - accuracy: 0.9737 - val_loss: 2.2933 - val_accuracy: 0.9091\n",
            "Epoch 13/50\n",
            "8/8 [==============================] - 3s 406ms/step - loss: 0.0265 - accuracy: 0.9956 - val_loss: 1.8570 - val_accuracy: 0.9091\n",
            "Epoch 14/50\n",
            "8/8 [==============================] - 3s 459ms/step - loss: 0.0269 - accuracy: 0.9956 - val_loss: 1.7752 - val_accuracy: 0.8788\n",
            "Epoch 15/50\n",
            "8/8 [==============================] - 3s 418ms/step - loss: 0.0028 - accuracy: 1.0000 - val_loss: 2.0078 - val_accuracy: 0.9091\n",
            "Epoch 16/50\n",
            "8/8 [==============================] - 3s 462ms/step - loss: 8.2553e-05 - accuracy: 1.0000 - val_loss: 2.0078 - val_accuracy: 0.9091\n",
            "Epoch 16: early stopping\n"
          ]
        }
      ]
    },
    {
      "cell_type": "code",
      "source": [
        "modelmobilenet.summary()"
      ],
      "metadata": {
        "colab": {
          "base_uri": "https://localhost:8080/"
        },
        "id": "gTPNI3ei3z-o",
        "outputId": "02915849-f331-4fae-ba5d-54ca22951d59"
      },
      "execution_count": null,
      "outputs": [
        {
          "output_type": "stream",
          "name": "stdout",
          "text": [
            "Model: \"model\"\n",
            "_________________________________________________________________\n",
            " Layer (type)                Output Shape              Param #   \n",
            "=================================================================\n",
            " input_2 (InputLayer)        [(None, 224, 224, 3)]     0         \n",
            "                                                                 \n",
            " conv1 (Conv2D)              (None, 112, 112, 32)      864       \n",
            "                                                                 \n",
            " conv1_bn (BatchNormalizatio  (None, 112, 112, 32)     128       \n",
            " n)                                                              \n",
            "                                                                 \n",
            " conv1_relu (ReLU)           (None, 112, 112, 32)      0         \n",
            "                                                                 \n",
            " conv_dw_1 (DepthwiseConv2D)  (None, 112, 112, 32)     288       \n",
            "                                                                 \n",
            " conv_dw_1_bn (BatchNormaliz  (None, 112, 112, 32)     128       \n",
            " ation)                                                          \n",
            "                                                                 \n",
            " conv_dw_1_relu (ReLU)       (None, 112, 112, 32)      0         \n",
            "                                                                 \n",
            " conv_pw_1 (Conv2D)          (None, 112, 112, 64)      2048      \n",
            "                                                                 \n",
            " conv_pw_1_bn (BatchNormaliz  (None, 112, 112, 64)     256       \n",
            " ation)                                                          \n",
            "                                                                 \n",
            " conv_pw_1_relu (ReLU)       (None, 112, 112, 64)      0         \n",
            "                                                                 \n",
            " conv_pad_2 (ZeroPadding2D)  (None, 113, 113, 64)      0         \n",
            "                                                                 \n",
            " conv_dw_2 (DepthwiseConv2D)  (None, 56, 56, 64)       576       \n",
            "                                                                 \n",
            " conv_dw_2_bn (BatchNormaliz  (None, 56, 56, 64)       256       \n",
            " ation)                                                          \n",
            "                                                                 \n",
            " conv_dw_2_relu (ReLU)       (None, 56, 56, 64)        0         \n",
            "                                                                 \n",
            " conv_pw_2 (Conv2D)          (None, 56, 56, 128)       8192      \n",
            "                                                                 \n",
            " conv_pw_2_bn (BatchNormaliz  (None, 56, 56, 128)      512       \n",
            " ation)                                                          \n",
            "                                                                 \n",
            " conv_pw_2_relu (ReLU)       (None, 56, 56, 128)       0         \n",
            "                                                                 \n",
            " conv_dw_3 (DepthwiseConv2D)  (None, 56, 56, 128)      1152      \n",
            "                                                                 \n",
            " conv_dw_3_bn (BatchNormaliz  (None, 56, 56, 128)      512       \n",
            " ation)                                                          \n",
            "                                                                 \n",
            " conv_dw_3_relu (ReLU)       (None, 56, 56, 128)       0         \n",
            "                                                                 \n",
            " conv_pw_3 (Conv2D)          (None, 56, 56, 128)       16384     \n",
            "                                                                 \n",
            " conv_pw_3_bn (BatchNormaliz  (None, 56, 56, 128)      512       \n",
            " ation)                                                          \n",
            "                                                                 \n",
            " conv_pw_3_relu (ReLU)       (None, 56, 56, 128)       0         \n",
            "                                                                 \n",
            " conv_pad_4 (ZeroPadding2D)  (None, 57, 57, 128)       0         \n",
            "                                                                 \n",
            " conv_dw_4 (DepthwiseConv2D)  (None, 28, 28, 128)      1152      \n",
            "                                                                 \n",
            " conv_dw_4_bn (BatchNormaliz  (None, 28, 28, 128)      512       \n",
            " ation)                                                          \n",
            "                                                                 \n",
            " conv_dw_4_relu (ReLU)       (None, 28, 28, 128)       0         \n",
            "                                                                 \n",
            " conv_pw_4 (Conv2D)          (None, 28, 28, 256)       32768     \n",
            "                                                                 \n",
            " conv_pw_4_bn (BatchNormaliz  (None, 28, 28, 256)      1024      \n",
            " ation)                                                          \n",
            "                                                                 \n",
            " conv_pw_4_relu (ReLU)       (None, 28, 28, 256)       0         \n",
            "                                                                 \n",
            " conv_dw_5 (DepthwiseConv2D)  (None, 28, 28, 256)      2304      \n",
            "                                                                 \n",
            " conv_dw_5_bn (BatchNormaliz  (None, 28, 28, 256)      1024      \n",
            " ation)                                                          \n",
            "                                                                 \n",
            " conv_dw_5_relu (ReLU)       (None, 28, 28, 256)       0         \n",
            "                                                                 \n",
            " conv_pw_5 (Conv2D)          (None, 28, 28, 256)       65536     \n",
            "                                                                 \n",
            " conv_pw_5_bn (BatchNormaliz  (None, 28, 28, 256)      1024      \n",
            " ation)                                                          \n",
            "                                                                 \n",
            " conv_pw_5_relu (ReLU)       (None, 28, 28, 256)       0         \n",
            "                                                                 \n",
            " conv_pad_6 (ZeroPadding2D)  (None, 29, 29, 256)       0         \n",
            "                                                                 \n",
            " conv_dw_6 (DepthwiseConv2D)  (None, 14, 14, 256)      2304      \n",
            "                                                                 \n",
            " conv_dw_6_bn (BatchNormaliz  (None, 14, 14, 256)      1024      \n",
            " ation)                                                          \n",
            "                                                                 \n",
            " conv_dw_6_relu (ReLU)       (None, 14, 14, 256)       0         \n",
            "                                                                 \n",
            " conv_pw_6 (Conv2D)          (None, 14, 14, 512)       131072    \n",
            "                                                                 \n",
            " conv_pw_6_bn (BatchNormaliz  (None, 14, 14, 512)      2048      \n",
            " ation)                                                          \n",
            "                                                                 \n",
            " conv_pw_6_relu (ReLU)       (None, 14, 14, 512)       0         \n",
            "                                                                 \n",
            " conv_dw_7 (DepthwiseConv2D)  (None, 14, 14, 512)      4608      \n",
            "                                                                 \n",
            " conv_dw_7_bn (BatchNormaliz  (None, 14, 14, 512)      2048      \n",
            " ation)                                                          \n",
            "                                                                 \n",
            " conv_dw_7_relu (ReLU)       (None, 14, 14, 512)       0         \n",
            "                                                                 \n",
            " conv_pw_7 (Conv2D)          (None, 14, 14, 512)       262144    \n",
            "                                                                 \n",
            " conv_pw_7_bn (BatchNormaliz  (None, 14, 14, 512)      2048      \n",
            " ation)                                                          \n",
            "                                                                 \n",
            " conv_pw_7_relu (ReLU)       (None, 14, 14, 512)       0         \n",
            "                                                                 \n",
            " conv_dw_8 (DepthwiseConv2D)  (None, 14, 14, 512)      4608      \n",
            "                                                                 \n",
            " conv_dw_8_bn (BatchNormaliz  (None, 14, 14, 512)      2048      \n",
            " ation)                                                          \n",
            "                                                                 \n",
            " conv_dw_8_relu (ReLU)       (None, 14, 14, 512)       0         \n",
            "                                                                 \n",
            " conv_pw_8 (Conv2D)          (None, 14, 14, 512)       262144    \n",
            "                                                                 \n",
            " conv_pw_8_bn (BatchNormaliz  (None, 14, 14, 512)      2048      \n",
            " ation)                                                          \n",
            "                                                                 \n",
            " conv_pw_8_relu (ReLU)       (None, 14, 14, 512)       0         \n",
            "                                                                 \n",
            " conv_dw_9 (DepthwiseConv2D)  (None, 14, 14, 512)      4608      \n",
            "                                                                 \n",
            " conv_dw_9_bn (BatchNormaliz  (None, 14, 14, 512)      2048      \n",
            " ation)                                                          \n",
            "                                                                 \n",
            " conv_dw_9_relu (ReLU)       (None, 14, 14, 512)       0         \n",
            "                                                                 \n",
            " conv_pw_9 (Conv2D)          (None, 14, 14, 512)       262144    \n",
            "                                                                 \n",
            " conv_pw_9_bn (BatchNormaliz  (None, 14, 14, 512)      2048      \n",
            " ation)                                                          \n",
            "                                                                 \n",
            " conv_pw_9_relu (ReLU)       (None, 14, 14, 512)       0         \n",
            "                                                                 \n",
            " conv_dw_10 (DepthwiseConv2D  (None, 14, 14, 512)      4608      \n",
            " )                                                               \n",
            "                                                                 \n",
            " conv_dw_10_bn (BatchNormali  (None, 14, 14, 512)      2048      \n",
            " zation)                                                         \n",
            "                                                                 \n",
            " conv_dw_10_relu (ReLU)      (None, 14, 14, 512)       0         \n",
            "                                                                 \n",
            " conv_pw_10 (Conv2D)         (None, 14, 14, 512)       262144    \n",
            "                                                                 \n",
            " conv_pw_10_bn (BatchNormali  (None, 14, 14, 512)      2048      \n",
            " zation)                                                         \n",
            "                                                                 \n",
            " conv_pw_10_relu (ReLU)      (None, 14, 14, 512)       0         \n",
            "                                                                 \n",
            " conv_dw_11 (DepthwiseConv2D  (None, 14, 14, 512)      4608      \n",
            " )                                                               \n",
            "                                                                 \n",
            " conv_dw_11_bn (BatchNormali  (None, 14, 14, 512)      2048      \n",
            " zation)                                                         \n",
            "                                                                 \n",
            " conv_dw_11_relu (ReLU)      (None, 14, 14, 512)       0         \n",
            "                                                                 \n",
            " conv_pw_11 (Conv2D)         (None, 14, 14, 512)       262144    \n",
            "                                                                 \n",
            " conv_pw_11_bn (BatchNormali  (None, 14, 14, 512)      2048      \n",
            " zation)                                                         \n",
            "                                                                 \n",
            " conv_pw_11_relu (ReLU)      (None, 14, 14, 512)       0         \n",
            "                                                                 \n",
            " conv_pad_12 (ZeroPadding2D)  (None, 15, 15, 512)      0         \n",
            "                                                                 \n",
            " conv_dw_12 (DepthwiseConv2D  (None, 7, 7, 512)        4608      \n",
            " )                                                               \n",
            "                                                                 \n",
            " conv_dw_12_bn (BatchNormali  (None, 7, 7, 512)        2048      \n",
            " zation)                                                         \n",
            "                                                                 \n",
            " conv_dw_12_relu (ReLU)      (None, 7, 7, 512)         0         \n",
            "                                                                 \n",
            " conv_pw_12 (Conv2D)         (None, 7, 7, 1024)        524288    \n",
            "                                                                 \n",
            " conv_pw_12_bn (BatchNormali  (None, 7, 7, 1024)       4096      \n",
            " zation)                                                         \n",
            "                                                                 \n",
            " conv_pw_12_relu (ReLU)      (None, 7, 7, 1024)        0         \n",
            "                                                                 \n",
            " conv_dw_13 (DepthwiseConv2D  (None, 7, 7, 1024)       9216      \n",
            " )                                                               \n",
            "                                                                 \n",
            " conv_dw_13_bn (BatchNormali  (None, 7, 7, 1024)       4096      \n",
            " zation)                                                         \n",
            "                                                                 \n",
            " conv_dw_13_relu (ReLU)      (None, 7, 7, 1024)        0         \n",
            "                                                                 \n",
            " conv_pw_13 (Conv2D)         (None, 7, 7, 1024)        1048576   \n",
            "                                                                 \n",
            " conv_pw_13_bn (BatchNormali  (None, 7, 7, 1024)       4096      \n",
            " zation)                                                         \n",
            "                                                                 \n",
            " conv_pw_13_relu (ReLU)      (None, 7, 7, 1024)        0         \n",
            "                                                                 \n",
            " flatten (Flatten)           (None, 50176)             0         \n",
            "                                                                 \n",
            " dense (Dense)               (None, 128)               6422656   \n",
            "                                                                 \n",
            " dropout (Dropout)           (None, 128)               0         \n",
            "                                                                 \n",
            " dense_1 (Dense)             (None, 1)                 129       \n",
            "                                                                 \n",
            "=================================================================\n",
            "Total params: 9,651,649\n",
            "Trainable params: 6,422,785\n",
            "Non-trainable params: 3,228,864\n",
            "_________________________________________________________________\n"
          ]
        }
      ]
    },
    {
      "cell_type": "code",
      "execution_count": null,
      "metadata": {
        "id": "_gUuGU9a6057",
        "colab": {
          "base_uri": "https://localhost:8080/"
        },
        "outputId": "c2ee9545-e094-45ec-81e8-fe549ac11114"
      },
      "outputs": [
        {
          "output_type": "stream",
          "name": "stdout",
          "text": [
            "Epoch 1/50\n",
            "8/8 [==============================] - 8s 964ms/step - loss: 4.1543 - accuracy: 0.6491 - val_loss: 2.2894 - val_accuracy: 0.6970\n",
            "Epoch 2/50\n",
            "8/8 [==============================] - 4s 474ms/step - loss: 0.9630 - accuracy: 0.7982 - val_loss: 1.0505 - val_accuracy: 0.8182\n",
            "Epoch 3/50\n",
            "8/8 [==============================] - 4s 477ms/step - loss: 0.8266 - accuracy: 0.8202 - val_loss: 0.4443 - val_accuracy: 0.8788\n",
            "Epoch 4/50\n",
            "8/8 [==============================] - 4s 479ms/step - loss: 0.2141 - accuracy: 0.9298 - val_loss: 0.4920 - val_accuracy: 0.8788\n",
            "Epoch 5/50\n",
            "8/8 [==============================] - 4s 470ms/step - loss: 0.1142 - accuracy: 0.9605 - val_loss: 0.6481 - val_accuracy: 0.8788\n",
            "Epoch 6/50\n",
            "8/8 [==============================] - 4s 480ms/step - loss: 0.1238 - accuracy: 0.9649 - val_loss: 0.6289 - val_accuracy: 0.8788\n",
            "Epoch 7/50\n",
            "8/8 [==============================] - 4s 542ms/step - loss: 0.0652 - accuracy: 0.9825 - val_loss: 0.5358 - val_accuracy: 0.9091\n",
            "Epoch 8/50\n",
            "8/8 [==============================] - 4s 463ms/step - loss: 0.0553 - accuracy: 0.9737 - val_loss: 0.6765 - val_accuracy: 0.8788\n",
            "Epoch 9/50\n",
            "8/8 [==============================] - 4s 472ms/step - loss: 0.0775 - accuracy: 0.9737 - val_loss: 0.6264 - val_accuracy: 0.8788\n",
            "Epoch 10/50\n",
            "8/8 [==============================] - 4s 486ms/step - loss: 0.0220 - accuracy: 0.9868 - val_loss: 0.4188 - val_accuracy: 0.9091\n",
            "Epoch 11/50\n",
            "8/8 [==============================] - 4s 465ms/step - loss: 0.0650 - accuracy: 0.9693 - val_loss: 0.8617 - val_accuracy: 0.7273\n",
            "Epoch 12/50\n",
            "8/8 [==============================] - 4s 478ms/step - loss: 0.2249 - accuracy: 0.9035 - val_loss: 0.5217 - val_accuracy: 0.8788\n",
            "Epoch 12: early stopping\n"
          ]
        }
      ],
      "source": [
        "for layer in vgg19_model.layers:\n",
        "        layer.trainable = False\n",
        "\n",
        "\n",
        "x = keras.layers.Flatten()(vgg19_model.output)\n",
        "x = keras.layers.Dense(1024, activation='relu')(x)\n",
        "x = keras.layers.Dropout(0.2)(x)\n",
        "x = keras.layers.Dense(1, activation='sigmoid')(x)\n",
        "\n",
        "modelVgg19 = tf.keras.models.Model(vgg19_model.input, x)\n",
        "\n",
        "modelVgg19.compile(optimizer = 'adam', loss = 'binary_crossentropy',metrics = ['accuracy'])\n",
        "historyVgg19 = modelVgg19.fit(train_generator,\n",
        "                    epochs = 50,\n",
        "                    validation_data = validation_generator,\n",
        "                    callbacks=[earlystop])"
      ]
    },
    {
      "cell_type": "code",
      "execution_count": null,
      "metadata": {
        "id": "fJ5BHNVx8DOE"
      },
      "outputs": [],
      "source": [
        "def print_info( test_gen, preds, print_code, save_dir, subject ):\n",
        "    class_dict=test_gen.class_indices\n",
        "    labels= test_gen.labels\n",
        "    file_names= test_gen.filenames\n",
        "    error_list=[]\n",
        "    true_class=[]\n",
        "    pred_class=[]\n",
        "    prob_list=[]\n",
        "    new_dict={}\n",
        "    error_indices=[]\n",
        "    y_pred=[]\n",
        "    for key,value in class_dict.items():\n",
        "        new_dict[value]=key             # dictionary {integer of class number: string of class name}\n",
        "    # store new_dict as a text fine in the save_dir\n",
        "    classes=list(new_dict.values())     # list of string of class names\n",
        "    dict_as_text=str(new_dict)\n",
        "    dict_name= subject + '-' +str(len(classes)) +'.txt'\n",
        "    dict_path=os.path.join(save_dir,dict_name)\n",
        "    with open(dict_path, 'w') as x_file:\n",
        "        x_file.write(dict_as_text)\n",
        "    errors=0\n",
        "    for i, p in enumerate(preds):\n",
        "        pred_index=np.argmax(p)\n",
        "        true_index=labels[i]  # labels are integer values\n",
        "        if pred_index != true_index: # a misclassification has occurred\n",
        "            error_list.append(file_names[i])\n",
        "            true_class.append(new_dict[true_index])\n",
        "            pred_class.append(new_dict[pred_index])\n",
        "            prob_list.append(p[pred_index])\n",
        "            error_indices.append(true_index)\n",
        "            errors=errors + 1\n",
        "        y_pred.append(pred_index)\n",
        "    if print_code !=0:\n",
        "        if errors>0:\n",
        "            if print_code>errors:\n",
        "                r=errors\n",
        "            else:\n",
        "                r=print_code\n",
        "            msg='{0:^28s}{1:^28s}{2:^28s}{3:^16s}'.format('Filename', 'Predicted Class' , 'True Class', 'Probability')\n",
        "            print_in_color(msg, (0,255,0),(55,65,80))\n",
        "            for i in range(r):\n",
        "                msg='{0:^28s}{1:^28s}{2:^28s}{3:4s}{4:^6.4f}'.format(error_list[i], pred_class[i],true_class[i], ' ', prob_list[i])\n",
        "                print_in_color(msg, (255,255,255), (55,65,60))\n",
        "                #print(error_list[i]  , pred_class[i], true_class[i], prob_list[i])\n",
        "        else:\n",
        "            msg='With accuracy of 100 % there are no errors to print'\n",
        "            print_in_color(msg, (0,255,0),(55,65,80))\n",
        "    if errors>0:\n",
        "        plot_bar=[]\n",
        "        plot_class=[]\n",
        "        for  key, value in new_dict.items():\n",
        "            count=error_indices.count(key)\n",
        "            if count!=0:\n",
        "                plot_bar.append(count) # list containg how many times a class c had an error\n",
        "                plot_class.append(value)   # stores the class\n",
        "        fig=plt.figure()\n",
        "        fig.set_figheight(len(plot_class)/3)\n",
        "        fig.set_figwidth(10)\n",
        "        plt.style.use('fivethirtyeight')\n",
        "        for i in range(0, len(plot_class)):\n",
        "            c=plot_class[i]\n",
        "            x=plot_bar[i]\n",
        "            plt.barh(c, x, )\n",
        "            plt.title( ' Errors by Class on Test Set')\n",
        "\n",
        "\n",
        "        # create a confusion matrix and a test report\n",
        "        y_true= np.array(labels)\n",
        "        y_pred=np.array(y_pred)\n",
        "        cm = confusion_matrix(y_true, y_pred )\n",
        "        clr = classification_report(y_true, y_pred, target_names=classes)\n",
        "        length=len(classes)\n",
        "        if length<25:\n",
        "            if length<8:\n",
        "                fig_width=8\n",
        "                fig_height=8\n",
        "            else:\n",
        "                fig_width= int(length * .5)\n",
        "                fig_height= int(length * .5)\n",
        "            plt.figure(figsize=(fig_width, fig_height))\n",
        "            sns.heatmap(cm, annot=True, vmin=0, fmt='g', cmap='Blues', cbar=False)\n",
        "            plt.xticks(np.arange(length)+.5, classes, rotation= 90)\n",
        "            plt.yticks(np.arange(length)+.5, classes, rotation=0)\n",
        "            plt.xlabel(\"Predicted\")\n",
        "            plt.ylabel(\"Actual\")\n",
        "            plt.title(\"Confusion Matrix\")\n",
        "            plt.show()\n",
        "        print(\"Classification Report:\\n----------------------\\n\", clr)"
      ]
    },
    {
      "cell_type": "code",
      "execution_count": null,
      "metadata": {
        "id": "FOvxCYOx9CBg"
      },
      "outputs": [],
      "source": [
        "from sklearn.metrics import confusion_matrix, classification_report"
      ]
    },
    {
      "cell_type": "code",
      "execution_count": null,
      "metadata": {
        "id": "WkNPb7aNVIrQ",
        "colab": {
          "base_uri": "https://localhost:8080/"
        },
        "outputId": "382684a6-058d-42ee-d5ed-e48602bc6f06"
      },
      "outputs": [
        {
          "output_type": "stream",
          "name": "stdout",
          "text": [
            "2/2 [==============================] - 1s 209ms/step\n"
          ]
        }
      ],
      "source": [
        "preds = modelVgg19.predict(validation_generator)"
      ]
    },
    {
      "cell_type": "code",
      "execution_count": null,
      "metadata": {
        "id": "8yPOvlakVwqA"
      },
      "outputs": [],
      "source": [
        "labels = validation_generator.labels"
      ]
    },
    {
      "cell_type": "code",
      "execution_count": null,
      "metadata": {
        "id": "-Vy7L9lyBBFe"
      },
      "outputs": [],
      "source": [
        "y_true = np.array(labels)\n",
        "y_pred = np.array(preds)\n",
        "y_pred = y_pred.round()"
      ]
    },
    {
      "cell_type": "code",
      "execution_count": null,
      "metadata": {
        "id": "NXUBol6HhWdW",
        "colab": {
          "base_uri": "https://localhost:8080/"
        },
        "outputId": "dac57417-16c3-4fdd-8462-87d87f079843"
      },
      "outputs": [
        {
          "output_type": "execute_result",
          "data": {
            "text/plain": [
              "array([[14,  3],\n",
              "       [ 1, 15]])"
            ]
          },
          "metadata": {},
          "execution_count": 26
        }
      ],
      "source": [
        "cm = confusion_matrix(y_true, y_pred)\n",
        "cm"
      ]
    },
    {
      "cell_type": "code",
      "execution_count": null,
      "metadata": {
        "id": "pkhnEcqvpZfI"
      },
      "outputs": [],
      "source": [
        "from mlxtend.plotting import plot_confusion_matrix\n",
        "\n",
        "cm = confusion_matrix(y_true, y_pred)"
      ]
    },
    {
      "cell_type": "code",
      "execution_count": null,
      "metadata": {
        "id": "gwAv8vFiy6AM",
        "colab": {
          "base_uri": "https://localhost:8080/",
          "height": 432
        },
        "outputId": "9697eb04-6617-4587-8a9a-da2bde236243"
      },
      "outputs": [
        {
          "output_type": "display_data",
          "data": {
            "text/plain": [
              "<Figure size 432x432 with 1 Axes>"
            ],
            "image/png": "[encoded data removed]"
          },
          "metadata": {}
        }
      ],
      "source": [
        "fig, ax = plot_confusion_matrix(conf_mat=cm, figsize=(6, 6))\n",
        "plt.xlabel('Predictions', fontsize=18)\n",
        "plt.ylabel('Actuals', fontsize=18)\n",
        "plt.title('Confusion Matrix', fontsize=18)\n",
        "plt.show()"
      ]
    },
    {
      "cell_type": "code",
      "execution_count": null,
      "metadata": {
        "id": "kTcs5Lx5VR7J",
        "colab": {
          "base_uri": "https://localhost:8080/"
        },
        "outputId": "b63dacde-0114-4f52-89e1-5c62e9ddb485"
      },
      "outputs": [
        {
          "output_type": "stream",
          "name": "stdout",
          "text": [
            "              precision    recall  f1-score   support\n",
            "\n",
            "           0       0.93      0.82      0.87        17\n",
            "           1       0.83      0.94      0.88        16\n",
            "\n",
            "    accuracy                           0.88        33\n",
            "   macro avg       0.88      0.88      0.88        33\n",
            "weighted avg       0.88      0.88      0.88        33\n",
            "\n"
          ]
        }
      ],
      "source": [
        "confusion_matrix(y_true, y_pred)\n",
        "print(classification_report(y_true, y_pred))"
      ]
    },
    {
      "cell_type": "code",
      "source": [
        "import tensorflow_hub as hub"
      ],
      "metadata": {
        "id": "0pc8yG07wjab"
      },
      "execution_count": null,
      "outputs": []
    },
    {
      "cell_type": "code",
      "source": [
        "modelmobilenet.save(\"model_mobilenet.h5\")\n",
        "model = tf.keras.models.load_model(\n",
        "       ('/content/model_mobilenet.h5'),\n",
        "       custom_objects={'KerasLayer':hub.KerasLayer}\n",
        ")\n",
        "converter = tf.lite.TFLiteConverter.from_keras_model(model)\n",
        "tflite_model = converter.convert()\n",
        "open(\"CVision_mobileNet.tflite\", \"wb\").write(tflite_model)"
      ],
      "metadata": {
        "colab": {
          "base_uri": "https://localhost:8080/"
        },
        "id": "WRsfMa_b3VZ9",
        "outputId": "e9375c8e-63d3-46b5-cfaf-946bee779a11"
      },
      "execution_count": null,
      "outputs": [
        {
          "output_type": "stream",
          "name": "stderr",
          "text": [
            "WARNING:absl:Found untraced functions such as _jit_compiled_convolution_op, _jit_compiled_convolution_op, _jit_compiled_convolution_op, _jit_compiled_convolution_op, _jit_compiled_convolution_op while saving (showing 5 of 27). These functions will not be directly callable after loading.\n"
          ]
        },
        {
          "output_type": "execute_result",
          "data": {
            "text/plain": [
              "38491576"
            ]
          },
          "metadata": {},
          "execution_count": 31
        }
      ]
    },
    {
      "cell_type": "code",
      "execution_count": null,
      "metadata": {
        "id": "yp5uYdjx9QcR"
      },
      "outputs": [],
      "source": [
        "export_dir ='saved_model/'"
      ]
    },
    {
      "cell_type": "code",
      "execution_count": null,
      "metadata": {
        "id": "pnME8J8IZEpJ",
        "colab": {
          "base_uri": "https://localhost:8080/"
        },
        "outputId": "b29e8b4d-ed83-4c2b-aa02-4a1683573060"
      },
      "outputs": [
        {
          "output_type": "stream",
          "name": "stderr",
          "text": [
            "WARNING:absl:Found untraced functions such as _jit_compiled_convolution_op, _jit_compiled_convolution_op, _jit_compiled_convolution_op, _jit_compiled_convolution_op, _jit_compiled_convolution_op while saving (showing 5 of 16). These functions will not be directly callable after loading.\n"
          ]
        },
        {
          "output_type": "execute_result",
          "data": {
            "text/plain": [
              "182876912"
            ]
          },
          "metadata": {},
          "execution_count": 33
        }
      ],
      "source": [
        "modelVgg19.save(\"modelVgg19.h5\")\n",
        "model = tf.keras.models.load_model(\n",
        "       ('/content/modelVgg19.h5'),\n",
        "       custom_objects={'KerasLayer':hub.KerasLayer}\n",
        ")\n",
        "converter = tf.lite.TFLiteConverter.from_keras_model(model)\n",
        "tflite_model = converter.convert()\n",
        "open(\"CVision_modelVgg19.tflite\", \"wb\").write(tflite_model)"
      ]
    },
    {
      "cell_type": "code",
      "source": [],
      "metadata": {
        "id": "z98t1gxPRNbO"
      },
      "execution_count": null,
      "outputs": []
    }
  ],
  "metadata": {
    "accelerator": "GPU",
    "colab": {
      "provenance": []
    },
    "gpuClass": "standard",
    "kernelspec": {
      "display_name": "Python 3",
      "name": "python3"
    },
    "language_info": {
      "name": "python"
    }
  },
  "nbformat": 4,
  "nbformat_minor": 0
}